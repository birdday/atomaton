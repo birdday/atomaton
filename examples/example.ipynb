{
 "cells": [
  {
   "cell_type": "code",
   "execution_count": null,
   "metadata": {},
   "outputs": [],
   "source": [
    "# Import key functions from package, also helps to have ase and other standard packages, such as numpy.\n",
    "import ase\n",
    "import numpy as np\n",
    "\n",
    "from atomaton.analyze import guess_bonds\n",
    "from atomaton.visualize import view_structure"
   ]
  },
  {
   "cell_type": "code",
   "execution_count": null,
   "metadata": {},
   "outputs": [],
   "source": [
    "\"\"\"\n",
    "Calculating bonds between atoms.\n",
    "\n",
    "Many types of structure files do not have bond information, which means that these needs to be calculated to be used with certain forcefields.\n",
    "To calculate bonds with atomaton, we first define a dictionary of bond lengths (in angstrom) for various atom type pairs.\n",
    "Note that atom types should be listed in alphabetical order so that the default bond length is not used.\n",
    "(ex. S-C will be skipped, because the code will always order the atoms types as C-S when checking the dictionary.)\n",
    "\"\"\"\n",
    "\n",
    "bond_dict = {'default':[0,2.0], 'C-C':[0, 1.8], 'C-Cl':[0, 1.8], 'C-S':[0, 1.9], 'O-S':[0, 1.9], 'H-H':[0, 0]}\n",
    "ethane = ase.io.read(\"ethane.xyz\")\n",
    "irmof1 = ase.io.read(\"IRMOF-1.cif\")\n",
    "\n",
    "# When determining bonding, we also check for bonds which cross the unit cell, \n",
    "# and keep a list of extra atoms and extra bonds for drawing those correctly.\n",
    "bonds, bond_types, bonds_across_boundary, extra_atoms, extra_bonds = guess_bonds(irmof1, cutoffs=bond_dict)\n"
   ]
  },
  {
   "cell_type": "code",
   "execution_count": null,
   "metadata": {},
   "outputs": [],
   "source": [
    "# View the structure\n",
    "view_structure(irmof1, bonds, bonds_across_boundary)"
   ]
  },
  {
   "cell_type": "code",
   "execution_count": null,
   "metadata": {},
   "outputs": [],
   "source": [
    "# If you wish to view the bonds across boundaries, join the atoms with the extra atoms, and bonds with the extra bonds.\n",
    "atoms_ext = irmof1+extra_atoms\n",
    "bonds_ext = bonds+extra_bonds\n",
    "view_structure(atoms_ext, bonds_ext, bonds_across_boundary)"
   ]
  },
  {
   "cell_type": "code",
   "execution_count": null,
   "metadata": {},
   "outputs": [],
   "source": [
    "\"\"\"\n",
    "You can view an extended cell used to calculate bonds if you create the extended cell locally.\n",
    "guess_bonds actually creates a minimally extended unit cell as determined by maximum possible bond length\n",
    "in O(N) time to reduce the number of atoms for the O(N^2) bond check.\n",
    "\"\"\"\n",
    "\n",
    "from atomaton.analyze import create_extended_cell_minimal \n",
    "\n",
    "irmof1_extended, _ = create_extended_cell_minimal(irmof1)\n",
    "view_structure(irmof1_extended, [], [])"
   ]
  },
  {
   "cell_type": "code",
   "execution_count": null,
   "metadata": {},
   "outputs": [],
   "source": [
    "\"\"\"\n",
    "In order to create supercells and compound structures for simulations, you can use build functions.\n",
    "One of the key ideas with these functions is that you can calculate bonds for individual structures separately, and stitch them together as needed.\n",
    "This reduces the time for bond calculations, and ensures you don't accidentally create any incorrect bonds between a crystal and molecule in an unrelaxed structure.\n",
    "Unlike create_extended_cell, build_supercell gives you control over how many copies to create in each direction and modifies cell parameters.\n",
    "\"\"\"\n",
    "\n",
    "from atomaton.build import insert_molecule, shift_bond_indicies\n",
    "\n",
    "mof_bonds, mof_bond_types, mof_bonds_across_boundary, mof_extra_atoms, mof_extra_bonds = guess_bonds(irmof1, cutoffs=bond_dict)\n",
    "eth_bonds, eth_bond_types, eth_bonds_across_boundary, eth_extra_atoms, eth_extra_bonds = guess_bonds(ethane, cutoffs=bond_dict)\n",
    "\n",
    "eth_bonds_shifted = shift_bond_indicies(eth_bonds, len(irmof1))\n",
    "eth_bonds_across_boundary_shifted = shift_bond_indicies(eth_bonds_across_boundary, len(irmof1))\n",
    "\n",
    "irmof1_with_ethane, _ = insert_molecule(irmof1, ethane)\n",
    "view_structure(irmof1_with_ethane, mof_bonds+eth_bonds_shifted, mof_bonds_across_boundary+eth_bonds_across_boundary_shifted)\n"
   ]
  }
 ],
 "metadata": {
  "kernelspec": {
   "display_name": "atomaton",
   "language": "python",
   "name": "python3"
  },
  "language_info": {
   "codemirror_mode": {
    "name": "ipython",
    "version": 3
   },
   "file_extension": ".py",
   "mimetype": "text/x-python",
   "name": "python",
   "nbconvert_exporter": "python",
   "pygments_lexer": "ipython3",
   "version": "3.9.4"
  }
 },
 "nbformat": 4,
 "nbformat_minor": 2
}
