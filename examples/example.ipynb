{
 "cells": [
  {
   "cell_type": "code",
   "execution_count": null,
   "metadata": {},
   "outputs": [],
   "source": [
    "# Import key functions from package, also helps to have ase and other standard packages, such as numpy.\n",
    "import ase\n",
    "import numpy as np\n",
    "\n",
    "from atomaton.analyze_structure import guess_bonds\n",
    "from atomaton.visualize import view_structure"
   ]
  },
  {
   "cell_type": "code",
   "execution_count": null,
   "metadata": {},
   "outputs": [],
   "source": [
    "# Calculating bonds between atoms.\n",
    "\"\"\"\n",
    "Many types of structure files do not have bond information, which means that these needs to be calculated to be used with certain forcefields.\n",
    "To calculate bonds with atomaton, we first define a dictionary of bond lengths (in angstrom) for various atom type pairs.\n",
    "Note that atom types should be listed in alphabetical order so that the default bond length is not used.\n",
    "(ex. S-C will be skipped, because the code will always order the atoms types as C-S when checking the dictionary.)\n",
    "\n",
    "TODO: Add bond dictionary validation code.\n",
    "\"\"\"\n",
    "\n",
    "bond_dict = {'default':[0,2.0], 'C-C':[0, 1.8], 'C-Cl':[0, 1.8], 'C-S':[0, 1.9], 'O-S':[0, 1.9]}\n",
    "\n",
    "ethane = ase.io.read(\"ethane.xyz\")\n",
    "irmof1 = ase.io.read(\"IRMOF-1.cif\")\n",
    "\n",
    "# TODO: Refactor this function, it's a mess and returns too much junk.\n",
    "_, all_bonds, _, _, _, extra_atoms_for_plot, extra_bonds_for_plot = guess_bonds(irmof1, np.zeros(len(irmof1)), cutoff=bond_dict, periodic=None)"
   ]
  },
  {
   "cell_type": "code",
   "execution_count": 19,
   "metadata": {},
   "outputs": [],
   "source": [
    "# Viewing structures\n",
    "\n",
    "# Set view parameters\n",
    "figure = {'bgcolor':(1,1,1), 'size':(800,800)}\n",
    "objects = {'cell_r':0.15}\n",
    "camera = {'azimuth': 90, 'elevation': 90, 'distance': None, 'parallel': False}\n",
    "\n",
    "# View the structure\n",
    "# By default, this is not ineractive, and does not save an image, which means it will render an image and then close it. \n",
    "# If you want to view it interactively, use the kwarg, or use the filename kwarg to save the image.\n",
    "view_structure(irmof1, all_bonds, [], show_unit_cell=True, figure=figure, objects=objects, camera=camera, filename=None, interactive=True)"
   ]
  }
 ],
 "metadata": {
  "kernelspec": {
   "display_name": "atomaton",
   "language": "python",
   "name": "python3"
  },
  "language_info": {
   "codemirror_mode": {
    "name": "ipython",
    "version": 3
   },
   "file_extension": ".py",
   "mimetype": "text/x-python",
   "name": "python",
   "nbconvert_exporter": "python",
   "pygments_lexer": "ipython3",
   "version": "3.9.4"
  }
 },
 "nbformat": 4,
 "nbformat_minor": 2
}
