{
 "cells": [
  {
   "cell_type": "code",
   "execution_count": 1,
   "metadata": {},
   "outputs": [],
   "source": [
    "# Import key functions from package, also helps to have ase and other standard packages, such as numpy.\n",
    "import ase\n",
    "import numpy as np\n",
    "\n",
    "from atomaton.analyze import create_extended_cell, guess_bonds\n",
    "from atomaton.visualize import view_structure"
   ]
  },
  {
   "cell_type": "code",
   "execution_count": 2,
   "metadata": {},
   "outputs": [
    {
     "name": "stderr",
     "output_type": "stream",
     "text": [
      "/Users/brianday/.pyenv/versions/3.9.4/envs/atomaton/lib/python3.9/site-packages/ase/io/cif.py:401: UserWarning: crystal system 'triclinic' is not interpreted for space group Spacegroup(1, setting=1). This may result in wrong setting!\n",
      "  warnings.warn(\n"
     ]
    }
   ],
   "source": [
    "# Calculating bonds between atoms.\n",
    "\"\"\"\n",
    "Many types of structure files do not have bond information, which means that these needs to be calculated to be used with certain forcefields.\n",
    "To calculate bonds with atomaton, we first define a dictionary of bond lengths (in angstrom) for various atom type pairs.\n",
    "Note that atom types should be listed in alphabetical order so that the default bond length is not used.\n",
    "(ex. S-C will be skipped, because the code will always order the atoms types as C-S when checking the dictionary.)\n",
    "\n",
    "TODO: Add bond dictionary validation code.\n",
    "\"\"\"\n",
    "\n",
    "bond_dict = {'default':[0,2.0], 'C-C':[0, 1.8], 'C-Cl':[0, 1.8], 'C-S':[0, 1.9], 'O-S':[0, 1.9]}\n",
    "\n",
    "ethane = ase.io.read(\"ethane.xyz\")\n",
    "irmof1 = ase.io.read(\"IRMOF-1.cif\")\n",
    "\n",
    "bonds, bond_types, bonds_across_boundary, extra_atoms, extra_bonds = guess_bonds(irmof1, cutoffs=bond_dict)\n"
   ]
  },
  {
   "cell_type": "code",
   "execution_count": 3,
   "metadata": {},
   "outputs": [
    {
     "name": "stderr",
     "output_type": "stream",
     "text": [
      "/Users/brianday/.pyenv/versions/3.9.4/envs/atomaton/lib/python3.9/site-packages/ase/utils/__init__.py:62: FutureWarning: Please use atoms.cell.cellpar() instead\n",
      "  warnings.warn(warning)\n"
     ]
    }
   ],
   "source": [
    "# Viewing structures\n",
    "\n",
    "# Set view parameters\n",
    "figure = {'bgcolor':(1,1,1), 'size':(800,800)}\n",
    "objects = {'cell_r':0.15}\n",
    "camera = {'azimuth': 90, 'elevation': 90, 'distance': None, 'parallel': False}\n",
    "\n",
    "# View the structure\n",
    "# By default, this is not ineractive, and does not save an image, which means it will render an image and then close it. \n",
    "# If you want to view it interactively, use the kwarg, or use the filename kwarg to save the image.\n",
    "view_structure(irmof1, bonds, bonds_across_boundary, show_unit_cell=True, figure=figure, objects=objects, camera=camera, filename=None, interactive=True)"
   ]
  },
  {
   "cell_type": "code",
   "execution_count": 4,
   "metadata": {},
   "outputs": [],
   "source": [
    "# If you wish to view the bonds across boundaries, join the atoms with the extra atoms, and bonds with the extra bonds.\n",
    "atoms_ext = irmof1+extra_atoms\n",
    "bonds_ext = bonds+extra_bonds\n",
    "view_structure(atoms_ext, bonds_ext, bonds_across_boundary, show_unit_cell=True, figure=figure, objects=objects, camera=camera, filename=None, interactive=True)"
   ]
  },
  {
   "cell_type": "code",
   "execution_count": 5,
   "metadata": {},
   "outputs": [],
   "source": [
    "# Similarly, you can view an extended cell while drawing the single unit cell if you create the extended cell locally.\n",
    "irmof1_extended, _ = create_extended_cell(irmof1)\n",
    "view_structure(irmof1_extended, bonds, bonds_across_boundary, show_unit_cell=True, figure=figure, objects=objects, camera=camera, filename=None, interactive=True)"
   ]
  }
 ],
 "metadata": {
  "kernelspec": {
   "display_name": "atomaton",
   "language": "python",
   "name": "python3"
  },
  "language_info": {
   "codemirror_mode": {
    "name": "ipython",
    "version": 3
   },
   "file_extension": ".py",
   "mimetype": "text/x-python",
   "name": "python",
   "nbconvert_exporter": "python",
   "pygments_lexer": "ipython3",
   "version": "3.9.4"
  }
 },
 "nbformat": 4,
 "nbformat_minor": 2
}
