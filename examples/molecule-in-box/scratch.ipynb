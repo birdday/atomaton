{
 "cells": [
  {
   "cell_type": "code",
   "execution_count": 1,
   "metadata": {},
   "outputs": [],
   "source": [
    "import ase\n",
    "import copy\n",
    "import itertools\n",
    "import random\n",
    "import numpy as np\n",
    "\n",
    "from atomaton.models import Atoms, Crystal, SimulationBox\n",
    "from atomaton.write_lammps_files import write_lammps_data_file, write_lammps_data_file_alt, get_masses"
   ]
  },
  {
   "cell_type": "code",
   "execution_count": null,
   "metadata": {},
   "outputs": [],
   "source": [
    "# ---- Ethanol in Box\n",
    "ethanol = Atoms.bind_from_file(\"ethanol.xyz\")\n",
    "ethanol.cell_lengths = np.array([30, 30, 30])\n",
    "ethanol.cell_angles = np.array([90, 90, 90])\n",
    "ethanol.center_in_cell()\n",
    "ethanol.calculate_bonds(cutoffs={\"C-C\": [0, 2.0], \"O-H\": [0, 1.0]})\n",
    "objects = {\n",
    "        \"atom_sf\": 0.10,\n",
    "        \"bond_r\": 0.05,\n",
    "        \"cell_r\": 0.5,\n",
    "        \"bond_color\": (0.4, 0.4, 0.4),\n",
    "        \"cell_color\": (0.4, 0.4, 0.4),\n",
    "    }\n",
    "ethanol.view(show_unit_cell=True, objects=objects)"
   ]
  },
  {
   "cell_type": "code",
   "execution_count": 5,
   "metadata": {},
   "outputs": [],
   "source": [
    "from atomaton.helper import get_unique_items\n",
    "from atomaton.write_lammps_files import write_lammps_data_file, write_lammps_data_file_alt, get_masses, \\\n",
    "                                    write_multibody_terms_header, write_header, write_mass_section"
   ]
  },
  {
   "cell_type": "code",
   "execution_count": 7,
   "metadata": {},
   "outputs": [],
   "source": [
    "out = \"test.out\"\n",
    "cell_lengths = np.array([30, 30, 30])\n",
    "cell_angles = np.array([90., 90., 90.])\n",
    "atoms = np.array([1,2,3,4,5,5,6,67,7,8,78,4,56,3,4,5,33,45,46,34,53])\n",
    "atom_types = ['C', 'H', 'C', 'H', 'O', 'C', 'C']\n",
    "bonds = np.array([[1,2], [3,4], [5,5], [6,67], [7,8], [78,4], [56,3], [4,5], [33,45], [46,34]])\n",
    "bond_types = atom_types\n",
    "angles = bonds\n",
    "angle_types = bond_types\n",
    "dihedrals = bonds\n",
    "dihedral_types = bond_types\n",
    "impropers = []\n",
    "improper_types = []\n",
    "\n",
    "header = write_header(cell_lengths, cell_angles, \n",
    "                 atoms, atom_types,\n",
    "                 bonds, bond_types,\n",
    "                 angles, angle_types, \n",
    "                 dihedrals, dihedral_types,\n",
    "                 impropers, improper_types)\n",
    "\n",
    "f = open(out, \"w\")\n",
    "f.writelines(header)\n",
    "mass_section = write_mass_section(['C', 'H', 'C_sp2', 'C_sp3', 'Ar', 'O', 'F'])\n",
    "f.writelines(mass_section)\n",
    "f.close()"
   ]
  },
  {
   "cell_type": "code",
   "execution_count": null,
   "metadata": {},
   "outputs": [],
   "source": []
  }
 ],
 "metadata": {
  "kernelspec": {
   "display_name": "atomaton",
   "language": "python",
   "name": "python3"
  },
  "language_info": {
   "codemirror_mode": {
    "name": "ipython",
    "version": 3
   },
   "file_extension": ".py",
   "mimetype": "text/x-python",
   "name": "python",
   "nbconvert_exporter": "python",
   "pygments_lexer": "ipython3",
   "version": "3.9.4"
  }
 },
 "nbformat": 4,
 "nbformat_minor": 2
}
